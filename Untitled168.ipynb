{
  "nbformat": 4,
  "nbformat_minor": 0,
  "metadata": {
    "colab": {
      "name": "Untitled168.ipynb",
      "provenance": [],
      "authorship_tag": "ABX9TyO3/kb+FZal04Uo9L1hDAxg",
      "include_colab_link": true
    },
    "kernelspec": {
      "name": "python3",
      "display_name": "Python 3"
    },
    "language_info": {
      "name": "python"
    }
  },
  "cells": [
    {
      "cell_type": "markdown",
      "metadata": {
        "id": "view-in-github",
        "colab_type": "text"
      },
      "source": [
        "<a href=\"https://colab.research.google.com/github/baekhaesun/test00111/blob/main/Untitled168.ipynb\" target=\"_parent\"><img src=\"https://colab.research.google.com/assets/colab-badge.svg\" alt=\"Open In Colab\"/></a>"
      ]
    },
    {
      "cell_type": "code",
      "execution_count": null,
      "metadata": {
        "id": "AJKgKsy89xeq"
      },
      "outputs": [],
      "source": [
        "print(\"Happy Programming~~~^^\")\n",
        "print(\"백해선\")\n",
        "print(\"한양공업고등학교\")"
      ]
    }
  ]
}